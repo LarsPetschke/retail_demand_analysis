{
 "cells": [
  {
   "cell_type": "markdown",
   "id": "40aa3317",
   "metadata": {},
   "source": [
    "# 🛒 Favorita Grocery Sales Forecast"
   ]
  },
  {
   "cell_type": "markdown",
   "id": "ec9908db",
   "metadata": {},
   "source": [
    "In this project, I forecast product sales for the region **Guayas** using the **Favorita Grocery Sales** dataset provided on Kaggle.  \n",
    "I focus only on the **top 3 product families** and forecast sales for the period **January–March 2014**."
   ]
  },
  {
   "cell_type": "markdown",
   "id": "0107626c",
   "metadata": {},
   "source": [
    "# 0. import libraries"
   ]
  },
  {
   "cell_type": "code",
   "execution_count": 1,
   "id": "4f0cd2cb",
   "metadata": {},
   "outputs": [],
   "source": [
    "import pandas as pd\n",
    "import numpy as np\n",
    "import seaborn as sns\n",
    "\n",
    "import matplotlib.pyplot as plt\n",
    "import matplotlib.ticker as ticker\n",
    "\n",
    "import os\n",
    "import shutil\n",
    "import zipfile\n",
    "import py7zr\n",
    "from kaggle.api.kaggle_api_extended import KaggleApi"
   ]
  },
  {
   "cell_type": "markdown",
   "id": "13a58e8c",
   "metadata": {},
   "source": [
    "install necessary packages"
   ]
  },
  {
   "cell_type": "code",
   "execution_count": null,
   "id": "cbe3ec50",
   "metadata": {},
   "outputs": [
    {
     "name": "stdout",
     "output_type": "stream",
     "text": [
      "\u001b[33mWARNING: Ignoring invalid distribution ~ensorflow (/opt/anaconda3/lib/python3.12/site-packages)\u001b[0m\u001b[33m\n",
      "\u001b[0mRequirement already satisfied: kaggle in /opt/anaconda3/lib/python3.12/site-packages (1.7.4.2)\n",
      "Requirement already satisfied: bleach in /opt/anaconda3/lib/python3.12/site-packages (from kaggle) (4.1.0)\n",
      "Requirement already satisfied: certifi>=14.05.14 in /opt/anaconda3/lib/python3.12/site-packages (from kaggle) (2025.1.31)\n",
      "Requirement already satisfied: charset-normalizer in /opt/anaconda3/lib/python3.12/site-packages (from kaggle) (3.3.2)\n",
      "Requirement already satisfied: idna in /opt/anaconda3/lib/python3.12/site-packages (from kaggle) (3.7)\n",
      "Requirement already satisfied: protobuf in /opt/anaconda3/lib/python3.12/site-packages (from kaggle) (4.25.3)\n",
      "Requirement already satisfied: python-dateutil>=2.5.3 in /opt/anaconda3/lib/python3.12/site-packages (from kaggle) (2.9.0.post0)\n",
      "Requirement already satisfied: python-slugify in /opt/anaconda3/lib/python3.12/site-packages (from kaggle) (5.0.2)\n",
      "Requirement already satisfied: requests in /opt/anaconda3/lib/python3.12/site-packages (from kaggle) (2.32.3)\n",
      "Requirement already satisfied: setuptools>=21.0.0 in /opt/anaconda3/lib/python3.12/site-packages (from kaggle) (75.1.0)\n",
      "Requirement already satisfied: six>=1.10 in /opt/anaconda3/lib/python3.12/site-packages (from kaggle) (1.16.0)\n",
      "Requirement already satisfied: text-unidecode in /opt/anaconda3/lib/python3.12/site-packages (from kaggle) (1.3)\n",
      "Requirement already satisfied: tqdm in /opt/anaconda3/lib/python3.12/site-packages (from kaggle) (4.66.5)\n",
      "Requirement already satisfied: urllib3>=1.15.1 in /opt/anaconda3/lib/python3.12/site-packages (from kaggle) (2.2.3)\n",
      "Requirement already satisfied: webencodings in /opt/anaconda3/lib/python3.12/site-packages (from kaggle) (0.5.1)\n",
      "Requirement already satisfied: packaging in /opt/anaconda3/lib/python3.12/site-packages (from bleach->kaggle) (24.1)\n",
      "\u001b[33mWARNING: Ignoring invalid distribution ~ensorflow (/opt/anaconda3/lib/python3.12/site-packages)\u001b[0m\u001b[33m\n",
      "\u001b[0m\u001b[33mWARNING: Ignoring invalid distribution ~ensorflow (/opt/anaconda3/lib/python3.12/site-packages)\u001b[0m\u001b[33m\n",
      "\u001b[0m\u001b[33mWARNING: Ignoring invalid distribution ~ensorflow (/opt/anaconda3/lib/python3.12/site-packages)\u001b[0m\u001b[33m\n",
      "\u001b[0mRequirement already satisfied: py7zr in /opt/anaconda3/lib/python3.12/site-packages (0.22.0)\n",
      "Requirement already satisfied: texttable in /opt/anaconda3/lib/python3.12/site-packages (from py7zr) (1.7.0)\n",
      "Requirement already satisfied: pycryptodomex>=3.16.0 in /opt/anaconda3/lib/python3.12/site-packages (from py7zr) (3.22.0)\n",
      "Requirement already satisfied: pyzstd>=0.15.9 in /opt/anaconda3/lib/python3.12/site-packages (from py7zr) (0.16.2)\n",
      "Requirement already satisfied: pyppmd<1.2.0,>=1.1.0 in /opt/anaconda3/lib/python3.12/site-packages (from py7zr) (1.1.1)\n",
      "Requirement already satisfied: pybcj<1.1.0,>=1.0.0 in /opt/anaconda3/lib/python3.12/site-packages (from py7zr) (1.0.3)\n",
      "Requirement already satisfied: multivolumefile>=0.2.3 in /opt/anaconda3/lib/python3.12/site-packages (from py7zr) (0.2.3)\n",
      "Requirement already satisfied: inflate64<1.1.0,>=1.0.0 in /opt/anaconda3/lib/python3.12/site-packages (from py7zr) (1.0.1)\n",
      "Requirement already satisfied: brotli>=1.1.0 in /opt/anaconda3/lib/python3.12/site-packages (from py7zr) (1.1.0)\n",
      "Requirement already satisfied: psutil in /opt/anaconda3/lib/python3.12/site-packages (from py7zr) (5.9.0)\n",
      "\u001b[33mWARNING: Ignoring invalid distribution ~ensorflow (/opt/anaconda3/lib/python3.12/site-packages)\u001b[0m\u001b[33m\n",
      "\u001b[0m\u001b[33mWARNING: Ignoring invalid distribution ~ensorflow (/opt/anaconda3/lib/python3.12/site-packages)\u001b[0m\u001b[33m\n",
      "\u001b[0m"
     ]
    }
   ],
   "source": [
    "# Install necessary packages (ensure this is done in notebook environment)\n",
    "!pip install -q --disable-pip-version-check \\\n",
    "    kaggle \\\n",
    "    py7zr"
   ]
  },
  {
   "cell_type": "markdown",
   "id": "f268cf64",
   "metadata": {},
   "source": [
    "# 1. Get the Data"
   ]
  },
  {
   "cell_type": "markdown",
   "id": "ad6403ea",
   "metadata": {},
   "source": [
    "To work with this dataset, I use the following libraries:"
   ]
  },
  {
   "cell_type": "markdown",
   "id": "ded55ccb",
   "metadata": {},
   "source": [
    "## 1.1 Download Data from KAGGLE"
   ]
  },
  {
   "cell_type": "markdown",
   "id": "817df9ee",
   "metadata": {},
   "source": [
    "I use the Kaggle API to download and extract the competition data."
   ]
  },
  {
   "cell_type": "code",
   "execution_count": 3,
   "id": "5262cbcf",
   "metadata": {},
   "outputs": [
    {
     "name": "stdout",
     "output_type": "stream",
     "text": [
      "✅ Dataset downloaded and extracted successfully!\n"
     ]
    }
   ],
   "source": [
    "# Step 1: Move kaggle.json to the correct location\n",
    "kaggle_dir = os.path.expanduser(\"~/.kaggle\")\n",
    "os.makedirs(kaggle_dir, exist_ok=True)\n",
    "kaggle_json_dest = os.path.join(kaggle_dir, \"kaggle.json\")\n",
    "if not os.path.exists(kaggle_json_dest):\n",
    "    shutil.move(\"kaggle.json\", kaggle_json_dest)\n",
    "os.chmod(kaggle_json_dest, 0o600)\n",
    "\n",
    "# Step 2: Authenticate with Kaggle API\n",
    "api = KaggleApi()\n",
    "api.authenticate()\n",
    "\n",
    "# Step 3: Create a folder for the project data\n",
    "project_data_folder = \"../data/retail_kaggle_data/\"\n",
    "os.makedirs(project_data_folder, exist_ok=True)\n",
    "\n",
    "# Step 4: Download dataset zip from the Kaggle competition\n",
    "api.competition_download_files(\"favorita-grocery-sales-forecasting\", path=project_data_folder)\n",
    "\n",
    "# Step 5: Unzip the downloaded archive\n",
    "zip_path = os.path.join(project_data_folder, \"favorita-grocery-sales-forecasting.zip\")\n",
    "with zipfile.ZipFile(zip_path, 'r') as zip_ref:\n",
    "    zip_ref.extractall(project_data_folder)\n",
    "\n",
    "# Step 6: Extract all .csv.7z files\n",
    "for filename in os.listdir(project_data_folder):\n",
    "    if filename.endswith(\".csv.7z\"):\n",
    "        full_path = os.path.join(project_data_folder, filename)\n",
    "        with py7zr.SevenZipFile(full_path, mode='r') as archive:\n",
    "            archive.extractall(path=project_data_folder)\n",
    "\n",
    "print(\"✅ Dataset downloaded and extracted successfully!\")"
   ]
  },
  {
   "cell_type": "markdown",
   "id": "a5b1cf18",
   "metadata": {},
   "source": [
    "## 1.2 Load the Metadata"
   ]
  },
  {
   "cell_type": "code",
   "execution_count": 4,
   "id": "521d2370",
   "metadata": {},
   "outputs": [
    {
     "name": "stderr",
     "output_type": "stream",
     "text": [
      "/var/folders/zs/s3r_n51s0j12n59b516vs7n00000gn/T/ipykernel_2186/3780809215.py:10: DtypeWarning: Columns (5) have mixed types. Specify dtype option on import or set low_memory=False.\n",
      "  df_train = pd.read_csv(os.path.join(folder_path, 'train.csv'))\n"
     ]
    }
   ],
   "source": [
    "# Load the CSV files into pandas DataFrames\n",
    "folder_path = \"../data/retail_kaggle_data/\"\n",
    "df_stores = pd.read_csv(os.path.join(folder_path, 'stores.csv'))\n",
    "df_items = pd.read_csv(os.path.join(folder_path, 'items.csv'))\n",
    "df_transactions = pd.read_csv(os.path.join(folder_path, 'transactions.csv'))\n",
    "df_oil = pd.read_csv(os.path.join(folder_path, 'oil.csv'))\n",
    "df_holidays_events = pd.read_csv(os.path.join(folder_path, 'holidays_events.csv'))\n",
    "\n",
    "# Optional: Load train.csv (large file, adjust if needed)\n",
    "df_train = pd.read_csv(os.path.join(folder_path, 'train.csv'))"
   ]
  },
  {
   "cell_type": "code",
   "execution_count": 5,
   "id": "2972f14f",
   "metadata": {},
   "outputs": [
    {
     "data": {
      "text/html": [
       "<div>\n",
       "<style scoped>\n",
       "    .dataframe tbody tr th:only-of-type {\n",
       "        vertical-align: middle;\n",
       "    }\n",
       "\n",
       "    .dataframe tbody tr th {\n",
       "        vertical-align: top;\n",
       "    }\n",
       "\n",
       "    .dataframe thead th {\n",
       "        text-align: right;\n",
       "    }\n",
       "</style>\n",
       "<table border=\"1\" class=\"dataframe\">\n",
       "  <thead>\n",
       "    <tr style=\"text-align: right;\">\n",
       "      <th></th>\n",
       "      <th>item_nbr</th>\n",
       "      <th>family</th>\n",
       "      <th>class</th>\n",
       "      <th>perishable</th>\n",
       "    </tr>\n",
       "  </thead>\n",
       "  <tbody>\n",
       "    <tr>\n",
       "      <th>0</th>\n",
       "      <td>96995</td>\n",
       "      <td>GROCERY I</td>\n",
       "      <td>1093</td>\n",
       "      <td>0</td>\n",
       "    </tr>\n",
       "    <tr>\n",
       "      <th>1</th>\n",
       "      <td>99197</td>\n",
       "      <td>GROCERY I</td>\n",
       "      <td>1067</td>\n",
       "      <td>0</td>\n",
       "    </tr>\n",
       "    <tr>\n",
       "      <th>2</th>\n",
       "      <td>103501</td>\n",
       "      <td>CLEANING</td>\n",
       "      <td>3008</td>\n",
       "      <td>0</td>\n",
       "    </tr>\n",
       "    <tr>\n",
       "      <th>3</th>\n",
       "      <td>103520</td>\n",
       "      <td>GROCERY I</td>\n",
       "      <td>1028</td>\n",
       "      <td>0</td>\n",
       "    </tr>\n",
       "    <tr>\n",
       "      <th>4</th>\n",
       "      <td>103665</td>\n",
       "      <td>BREAD/BAKERY</td>\n",
       "      <td>2712</td>\n",
       "      <td>1</td>\n",
       "    </tr>\n",
       "  </tbody>\n",
       "</table>\n",
       "</div>"
      ],
      "text/plain": [
       "   item_nbr        family  class  perishable\n",
       "0     96995     GROCERY I   1093           0\n",
       "1     99197     GROCERY I   1067           0\n",
       "2    103501      CLEANING   3008           0\n",
       "3    103520     GROCERY I   1028           0\n",
       "4    103665  BREAD/BAKERY   2712           1"
      ]
     },
     "execution_count": 5,
     "metadata": {},
     "output_type": "execute_result"
    }
   ],
   "source": [
    "df_items.head(5)\n",
    "# df_stores.head(5)\n",
    "# df_transactions.head(5)\n",
    "# df_oil.head(5)\n",
    "# df_holidays_events.head(5)"
   ]
  },
  {
   "cell_type": "markdown",
   "id": "d3248380",
   "metadata": {},
   "source": [
    "## 1.3 Filter for Region \"Guayas\""
   ]
  },
  {
   "cell_type": "code",
   "execution_count": 6,
   "id": "ff882b0b",
   "metadata": {},
   "outputs": [],
   "source": [
    "guayas_ids = df_stores[df_stores['state'] == 'Guayas']['store_nbr'].unique()"
   ]
  },
  {
   "cell_type": "markdown",
   "id": "41b9fa52",
   "metadata": {},
   "source": [
    "## 1.4 Load Train Data in Chunks (Filter Guayas)"
   ]
  },
  {
   "cell_type": "code",
   "execution_count": 8,
   "id": "ee560cc9",
   "metadata": {},
   "outputs": [
    {
     "name": "stderr",
     "output_type": "stream",
     "text": [
      "/var/folders/zs/s3r_n51s0j12n59b516vs7n00000gn/T/ipykernel_2186/1213501986.py:4: DtypeWarning: Columns (5) have mixed types. Specify dtype option on import or set low_memory=False.\n",
      "  for chunk in pd.read_csv(\"../data/retail_kaggle_data/train.csv\", chunksize=chunk_size):\n"
     ]
    }
   ],
   "source": [
    "filtered_chunks = []\n",
    "chunk_size = 10 ** 6\n",
    "\n",
    "for chunk in pd.read_csv(\"../data/retail_kaggle_data/train.csv\", chunksize=chunk_size):\n",
    "    chunk_filtered = chunk[chunk['store_nbr'].isin(guayas_ids)]\n",
    "    filtered_chunks.append(chunk_filtered)\n",
    "\n",
    "df_train = pd.concat(filtered_chunks, ignore_index=True)"
   ]
  },
  {
   "cell_type": "code",
   "execution_count": null,
   "id": "89a180b6",
   "metadata": {},
   "outputs": [
    {
     "name": "stdout",
     "output_type": "stream",
     "text": [
      "Shape of filtered df_train: (22941656, 6)\n"
     ]
    }
   ],
   "source": [
    "print(\"Shape of filtered df_train:\", df_train.shape)\n"
   ]
  },
  {
   "cell_type": "markdown",
   "id": "7ee3439f",
   "metadata": {},
   "source": [
    "Now I will check, if the filtering after Guayas region was succesfull"
   ]
  },
  {
   "cell_type": "markdown",
   "id": "fa17fda2",
   "metadata": {},
   "source": [
    "How many stores are located in the 'Guayas' region and which Store Number they have?"
   ]
  },
  {
   "cell_type": "code",
   "execution_count": 9,
   "id": "fa030013",
   "metadata": {},
   "outputs": [
    {
     "name": "stdout",
     "output_type": "stream",
     "text": [
      "The number of Stores in the Guayas region is: 11\n",
      "The Store Numbers are: [24 26 27 28 30 32 34 35 51 36 29]\n"
     ]
    }
   ],
   "source": [
    "print(\"The number of Stores in the Guayas region is:\", df_train['store_nbr'].nunique())\n",
    "print(\"The Store Numbers are:\", df_train['store_nbr'].unique())\n"
   ]
  },
  {
   "cell_type": "markdown",
   "id": "36743017",
   "metadata": {},
   "source": [
    "# 2. Data Preparation"
   ]
  },
  {
   "cell_type": "markdown",
   "id": "4cdf063f",
   "metadata": {},
   "source": [
    "## 2.1 Merge with Item Families"
   ]
  },
  {
   "cell_type": "code",
   "execution_count": 10,
   "id": "af8b3797",
   "metadata": {},
   "outputs": [
    {
     "data": {
      "text/html": [
       "<div>\n",
       "<style scoped>\n",
       "    .dataframe tbody tr th:only-of-type {\n",
       "        vertical-align: middle;\n",
       "    }\n",
       "\n",
       "    .dataframe tbody tr th {\n",
       "        vertical-align: top;\n",
       "    }\n",
       "\n",
       "    .dataframe thead th {\n",
       "        text-align: right;\n",
       "    }\n",
       "</style>\n",
       "<table border=\"1\" class=\"dataframe\">\n",
       "  <thead>\n",
       "    <tr style=\"text-align: right;\">\n",
       "      <th></th>\n",
       "      <th>id</th>\n",
       "      <th>date</th>\n",
       "      <th>store_nbr</th>\n",
       "      <th>item_nbr</th>\n",
       "      <th>unit_sales</th>\n",
       "      <th>onpromotion</th>\n",
       "      <th>family</th>\n",
       "    </tr>\n",
       "  </thead>\n",
       "  <tbody>\n",
       "    <tr>\n",
       "      <th>0</th>\n",
       "      <td>18789</td>\n",
       "      <td>2013-01-02</td>\n",
       "      <td>24</td>\n",
       "      <td>103665</td>\n",
       "      <td>6.0</td>\n",
       "      <td>NaN</td>\n",
       "      <td>BREAD/BAKERY</td>\n",
       "    </tr>\n",
       "    <tr>\n",
       "      <th>1</th>\n",
       "      <td>18790</td>\n",
       "      <td>2013-01-02</td>\n",
       "      <td>24</td>\n",
       "      <td>105574</td>\n",
       "      <td>12.0</td>\n",
       "      <td>NaN</td>\n",
       "      <td>GROCERY I</td>\n",
       "    </tr>\n",
       "    <tr>\n",
       "      <th>2</th>\n",
       "      <td>18791</td>\n",
       "      <td>2013-01-02</td>\n",
       "      <td>24</td>\n",
       "      <td>105575</td>\n",
       "      <td>2.0</td>\n",
       "      <td>NaN</td>\n",
       "      <td>GROCERY I</td>\n",
       "    </tr>\n",
       "    <tr>\n",
       "      <th>3</th>\n",
       "      <td>18792</td>\n",
       "      <td>2013-01-02</td>\n",
       "      <td>24</td>\n",
       "      <td>105577</td>\n",
       "      <td>1.0</td>\n",
       "      <td>NaN</td>\n",
       "      <td>GROCERY I</td>\n",
       "    </tr>\n",
       "    <tr>\n",
       "      <th>4</th>\n",
       "      <td>18793</td>\n",
       "      <td>2013-01-02</td>\n",
       "      <td>24</td>\n",
       "      <td>105693</td>\n",
       "      <td>7.0</td>\n",
       "      <td>NaN</td>\n",
       "      <td>GROCERY I</td>\n",
       "    </tr>\n",
       "  </tbody>\n",
       "</table>\n",
       "</div>"
      ],
      "text/plain": [
       "      id        date  store_nbr  item_nbr  unit_sales onpromotion  \\\n",
       "0  18789  2013-01-02         24    103665         6.0         NaN   \n",
       "1  18790  2013-01-02         24    105574        12.0         NaN   \n",
       "2  18791  2013-01-02         24    105575         2.0         NaN   \n",
       "3  18792  2013-01-02         24    105577         1.0         NaN   \n",
       "4  18793  2013-01-02         24    105693         7.0         NaN   \n",
       "\n",
       "         family  \n",
       "0  BREAD/BAKERY  \n",
       "1     GROCERY I  \n",
       "2     GROCERY I  \n",
       "3     GROCERY I  \n",
       "4     GROCERY I  "
      ]
     },
     "execution_count": 10,
     "metadata": {},
     "output_type": "execute_result"
    }
   ],
   "source": [
    "df_train = df_train.merge(df_items[['item_nbr', 'family']], on='item_nbr', how='left')\n",
    "df_train.head()"
   ]
  },
  {
   "cell_type": "code",
   "execution_count": 11,
   "id": "a1e2cc35",
   "metadata": {},
   "outputs": [
    {
     "name": "stdout",
     "output_type": "stream",
     "text": [
      "Filtered dataset – Shape: (22941656, 7)\n",
      "Date range: 2013-01-02 to 2017-08-15\n",
      "Included families: 33\n"
     ]
    }
   ],
   "source": [
    "print(\"Filtered dataset – Shape:\", df_train.shape)\n",
    "print(\"Date range:\", df_train['date'].min(), \"to\", df_train['date'].max())\n",
    "print(\"Included families:\", df_train['family'].nunique())\n"
   ]
  },
  {
   "cell_type": "markdown",
   "id": "e99ac75e",
   "metadata": {},
   "source": [
    "## 2.2 Select Top 3 Product Families"
   ]
  },
  {
   "cell_type": "code",
   "execution_count": 12,
   "id": "4813c17e",
   "metadata": {},
   "outputs": [],
   "source": [
    "top_families = df_train['family'].value_counts().nlargest(3).index\n",
    "df_train = df_train[df_train['family'].isin(top_families)]"
   ]
  },
  {
   "cell_type": "code",
   "execution_count": 13,
   "id": "703bca83",
   "metadata": {},
   "outputs": [
    {
     "data": {
      "image/png": "[encoded data removed]",
      "text/plain": [
       "<Figure size 800x500 with 1 Axes>"
      ]
     },
     "metadata": {},
     "output_type": "display_data"
    }
   ],
   "source": [
    "items_per_family = df_items['family'].value_counts().reset_index()\n",
    "items_per_family.columns = ['Family', 'Item Count']\n",
    "top_3_families = items_per_family.head(3)  # Keep only the top 3 families\n",
    "\n",
    "# Plot the top 3 families\n",
    "plt.figure(figsize=(8, 5))\n",
    "plt.bar(top_3_families['Family'], top_3_families['Item Count'], color='skyblue', edgecolor='black')\n",
    "plt.title(\"Top 3 Families by Number of Items\", fontsize=20, fontweight='bold')\n",
    "plt.xlabel(\"Family\", fontsize=14)\n",
    "plt.ylabel(\"Number of Items\", fontsize=16)\n",
    "plt.xticks(fontsize=12, rotation=0)\n",
    "plt.yticks(fontsize=12)\n",
    "plt.tight_layout()\n",
    "# Display the plot\n",
    "plt.show()"
   ]
  },
  {
   "cell_type": "markdown",
   "id": "2ebb033c",
   "metadata": {},
   "source": [
    "## 2.3 Random Sampling (2M rows)"
   ]
  },
  {
   "cell_type": "code",
   "execution_count": 14,
   "id": "2bb74c88",
   "metadata": {},
   "outputs": [],
   "source": [
    "#df_train = df_train.sample(n=2_000_000, random_state=42).reset_index(drop=True)"
   ]
  },
  {
   "cell_type": "markdown",
   "id": "091389bb",
   "metadata": {},
   "source": [
    "## 2.4 Convert Date"
   ]
  },
  {
   "cell_type": "code",
   "execution_count": 15,
   "id": "2be89118",
   "metadata": {},
   "outputs": [
    {
     "data": {
      "text/html": [
       "<div>\n",
       "<style scoped>\n",
       "    .dataframe tbody tr th:only-of-type {\n",
       "        vertical-align: middle;\n",
       "    }\n",
       "\n",
       "    .dataframe tbody tr th {\n",
       "        vertical-align: top;\n",
       "    }\n",
       "\n",
       "    .dataframe thead th {\n",
       "        text-align: right;\n",
       "    }\n",
       "</style>\n",
       "<table border=\"1\" class=\"dataframe\">\n",
       "  <thead>\n",
       "    <tr style=\"text-align: right;\">\n",
       "      <th></th>\n",
       "      <th>date</th>\n",
       "    </tr>\n",
       "  </thead>\n",
       "  <tbody>\n",
       "    <tr>\n",
       "      <th>0</th>\n",
       "      <td>2013-01-02</td>\n",
       "    </tr>\n",
       "    <tr>\n",
       "      <th>1</th>\n",
       "      <td>2013-01-03</td>\n",
       "    </tr>\n",
       "    <tr>\n",
       "      <th>2</th>\n",
       "      <td>2013-01-04</td>\n",
       "    </tr>\n",
       "    <tr>\n",
       "      <th>3</th>\n",
       "      <td>2013-01-05</td>\n",
       "    </tr>\n",
       "    <tr>\n",
       "      <th>4</th>\n",
       "      <td>2013-01-06</td>\n",
       "    </tr>\n",
       "    <tr>\n",
       "      <th>...</th>\n",
       "      <td>...</td>\n",
       "    </tr>\n",
       "    <tr>\n",
       "      <th>1682</th>\n",
       "      <td>2017-08-11</td>\n",
       "    </tr>\n",
       "    <tr>\n",
       "      <th>1683</th>\n",
       "      <td>2017-08-12</td>\n",
       "    </tr>\n",
       "    <tr>\n",
       "      <th>1684</th>\n",
       "      <td>2017-08-13</td>\n",
       "    </tr>\n",
       "    <tr>\n",
       "      <th>1685</th>\n",
       "      <td>2017-08-14</td>\n",
       "    </tr>\n",
       "    <tr>\n",
       "      <th>1686</th>\n",
       "      <td>2017-08-15</td>\n",
       "    </tr>\n",
       "  </tbody>\n",
       "</table>\n",
       "<p>1687 rows × 1 columns</p>\n",
       "</div>"
      ],
      "text/plain": [
       "           date\n",
       "0    2013-01-02\n",
       "1    2013-01-03\n",
       "2    2013-01-04\n",
       "3    2013-01-05\n",
       "4    2013-01-06\n",
       "...         ...\n",
       "1682 2017-08-11\n",
       "1683 2017-08-12\n",
       "1684 2017-08-13\n",
       "1685 2017-08-14\n",
       "1686 2017-08-15\n",
       "\n",
       "[1687 rows x 1 columns]"
      ]
     },
     "execution_count": 15,
     "metadata": {},
     "output_type": "execute_result"
    }
   ],
   "source": [
    "df_train['date'] = pd.to_datetime(df_train['date'])\n",
    "# Get the minimum and maximum dates in the dataset to create a full date range\n",
    "min_date = df_train['date'].min()\n",
    "max_date = df_train['date'].max()\n",
    "# Get full date range\n",
    "full_date_range = pd.DataFrame({'date': pd.date_range(min_date, max_date, freq='D')})\n",
    "full_date_range"
   ]
  },
  {
   "cell_type": "markdown",
   "id": "f64e8d33",
   "metadata": {},
   "source": [
    "## 2.4 Cross Join of each Store and Item combination for every day"
   ]
  },
  {
   "cell_type": "code",
   "execution_count": 16,
   "id": "32d16848",
   "metadata": {},
   "outputs": [
    {
     "data": {
      "text/html": [
       "<div>\n",
       "<style scoped>\n",
       "    .dataframe tbody tr th:only-of-type {\n",
       "        vertical-align: middle;\n",
       "    }\n",
       "\n",
       "    .dataframe tbody tr th {\n",
       "        vertical-align: top;\n",
       "    }\n",
       "\n",
       "    .dataframe thead th {\n",
       "        text-align: right;\n",
       "    }\n",
       "</style>\n",
       "<table border=\"1\" class=\"dataframe\">\n",
       "  <thead>\n",
       "    <tr style=\"text-align: right;\">\n",
       "      <th></th>\n",
       "      <th>store_nbr</th>\n",
       "      <th>item_nbr</th>\n",
       "      <th>date</th>\n",
       "    </tr>\n",
       "  </thead>\n",
       "  <tbody>\n",
       "    <tr>\n",
       "      <th>0</th>\n",
       "      <td>24</td>\n",
       "      <td>105574</td>\n",
       "      <td>2013-01-02</td>\n",
       "    </tr>\n",
       "    <tr>\n",
       "      <th>1</th>\n",
       "      <td>24</td>\n",
       "      <td>105574</td>\n",
       "      <td>2013-01-03</td>\n",
       "    </tr>\n",
       "    <tr>\n",
       "      <th>2</th>\n",
       "      <td>24</td>\n",
       "      <td>105574</td>\n",
       "      <td>2013-01-04</td>\n",
       "    </tr>\n",
       "    <tr>\n",
       "      <th>3</th>\n",
       "      <td>24</td>\n",
       "      <td>105574</td>\n",
       "      <td>2013-01-05</td>\n",
       "    </tr>\n",
       "    <tr>\n",
       "      <th>4</th>\n",
       "      <td>24</td>\n",
       "      <td>105574</td>\n",
       "      <td>2013-01-06</td>\n",
       "    </tr>\n",
       "    <tr>\n",
       "      <th>...</th>\n",
       "      <td>...</td>\n",
       "      <td>...</td>\n",
       "      <td>...</td>\n",
       "    </tr>\n",
       "    <tr>\n",
       "      <th>35069351</th>\n",
       "      <td>51</td>\n",
       "      <td>2123791</td>\n",
       "      <td>2017-08-11</td>\n",
       "    </tr>\n",
       "    <tr>\n",
       "      <th>35069352</th>\n",
       "      <td>51</td>\n",
       "      <td>2123791</td>\n",
       "      <td>2017-08-12</td>\n",
       "    </tr>\n",
       "    <tr>\n",
       "      <th>35069353</th>\n",
       "      <td>51</td>\n",
       "      <td>2123791</td>\n",
       "      <td>2017-08-13</td>\n",
       "    </tr>\n",
       "    <tr>\n",
       "      <th>35069354</th>\n",
       "      <td>51</td>\n",
       "      <td>2123791</td>\n",
       "      <td>2017-08-14</td>\n",
       "    </tr>\n",
       "    <tr>\n",
       "      <th>35069355</th>\n",
       "      <td>51</td>\n",
       "      <td>2123791</td>\n",
       "      <td>2017-08-15</td>\n",
       "    </tr>\n",
       "  </tbody>\n",
       "</table>\n",
       "<p>35069356 rows × 3 columns</p>\n",
       "</div>"
      ],
      "text/plain": [
       "          store_nbr  item_nbr       date\n",
       "0                24    105574 2013-01-02\n",
       "1                24    105574 2013-01-03\n",
       "2                24    105574 2013-01-04\n",
       "3                24    105574 2013-01-05\n",
       "4                24    105574 2013-01-06\n",
       "...             ...       ...        ...\n",
       "35069351         51   2123791 2017-08-11\n",
       "35069352         51   2123791 2017-08-12\n",
       "35069353         51   2123791 2017-08-13\n",
       "35069354         51   2123791 2017-08-14\n",
       "35069355         51   2123791 2017-08-15\n",
       "\n",
       "[35069356 rows x 3 columns]"
      ]
     },
     "execution_count": 16,
     "metadata": {},
     "output_type": "execute_result"
    }
   ],
   "source": [
    "# Create a DataFrame with all (store, item, date) combinations\n",
    "store_item_combinations = df_train[['store_nbr', 'item_nbr']].drop_duplicates()\n",
    "all_combinations = store_item_combinations.merge(full_date_range, how='cross')\n",
    "all_combinations"
   ]
  },
  {
   "cell_type": "code",
   "execution_count": 17,
   "id": "a383eab4",
   "metadata": {},
   "outputs": [
    {
     "name": "stderr",
     "output_type": "stream",
     "text": [
      "/var/folders/zs/s3r_n51s0j12n59b516vs7n00000gn/T/ipykernel_2186/3683109597.py:3: FutureWarning: Downcasting object dtype arrays on .fillna, .ffill, .bfill is deprecated and will change in a future version. Call result.infer_objects(copy=False) instead. To opt-in to the future behavior, set `pd.set_option('future.no_silent_downcasting', True)`\n",
      "  df_filled['onpromotion'] = df_filled['onpromotion'].fillna(False).astype(int)\n"
     ]
    },
    {
     "data": {
      "text/html": [
       "<div>\n",
       "<style scoped>\n",
       "    .dataframe tbody tr th:only-of-type {\n",
       "        vertical-align: middle;\n",
       "    }\n",
       "\n",
       "    .dataframe tbody tr th {\n",
       "        vertical-align: top;\n",
       "    }\n",
       "\n",
       "    .dataframe thead th {\n",
       "        text-align: right;\n",
       "    }\n",
       "</style>\n",
       "<table border=\"1\" class=\"dataframe\">\n",
       "  <thead>\n",
       "    <tr style=\"text-align: right;\">\n",
       "      <th></th>\n",
       "      <th>store_nbr</th>\n",
       "      <th>item_nbr</th>\n",
       "      <th>date</th>\n",
       "      <th>id</th>\n",
       "      <th>unit_sales</th>\n",
       "      <th>onpromotion</th>\n",
       "      <th>family</th>\n",
       "    </tr>\n",
       "  </thead>\n",
       "  <tbody>\n",
       "    <tr>\n",
       "      <th>0</th>\n",
       "      <td>24</td>\n",
       "      <td>105574</td>\n",
       "      <td>2013-01-02</td>\n",
       "      <td>18790.0</td>\n",
       "      <td>12.0</td>\n",
       "      <td>0</td>\n",
       "      <td>GROCERY I</td>\n",
       "    </tr>\n",
       "    <tr>\n",
       "      <th>1</th>\n",
       "      <td>24</td>\n",
       "      <td>105574</td>\n",
       "      <td>2013-01-03</td>\n",
       "      <td>59692.0</td>\n",
       "      <td>1.0</td>\n",
       "      <td>0</td>\n",
       "      <td>GROCERY I</td>\n",
       "    </tr>\n",
       "    <tr>\n",
       "      <th>2</th>\n",
       "      <td>24</td>\n",
       "      <td>105574</td>\n",
       "      <td>2013-01-04</td>\n",
       "      <td>99664.0</td>\n",
       "      <td>3.0</td>\n",
       "      <td>0</td>\n",
       "      <td>GROCERY I</td>\n",
       "    </tr>\n",
       "    <tr>\n",
       "      <th>3</th>\n",
       "      <td>24</td>\n",
       "      <td>105574</td>\n",
       "      <td>2013-01-05</td>\n",
       "      <td>140805.0</td>\n",
       "      <td>4.0</td>\n",
       "      <td>0</td>\n",
       "      <td>GROCERY I</td>\n",
       "    </tr>\n",
       "    <tr>\n",
       "      <th>4</th>\n",
       "      <td>24</td>\n",
       "      <td>105574</td>\n",
       "      <td>2013-01-06</td>\n",
       "      <td>182800.0</td>\n",
       "      <td>7.0</td>\n",
       "      <td>0</td>\n",
       "      <td>GROCERY I</td>\n",
       "    </tr>\n",
       "  </tbody>\n",
       "</table>\n",
       "</div>"
      ],
      "text/plain": [
       "   store_nbr  item_nbr       date        id  unit_sales  onpromotion  \\\n",
       "0         24    105574 2013-01-02   18790.0        12.0            0   \n",
       "1         24    105574 2013-01-03   59692.0         1.0            0   \n",
       "2         24    105574 2013-01-04   99664.0         3.0            0   \n",
       "3         24    105574 2013-01-05  140805.0         4.0            0   \n",
       "4         24    105574 2013-01-06  182800.0         7.0            0   \n",
       "\n",
       "      family  \n",
       "0  GROCERY I  \n",
       "1  GROCERY I  \n",
       "2  GROCERY I  \n",
       "3  GROCERY I  \n",
       "4  GROCERY I  "
      ]
     },
     "execution_count": 17,
     "metadata": {},
     "output_type": "execute_result"
    }
   ],
   "source": [
    "df_filled = all_combinations.merge(df_train, on=['store_nbr', 'item_nbr', 'date'], how='left')\n",
    "df_filled['unit_sales'] = df_filled['unit_sales'].fillna(0)\n",
    "df_filled['onpromotion'] = df_filled['onpromotion'].fillna(False).astype(int)\n",
    "\n",
    "df_filled.head()"
   ]
  },
  {
   "cell_type": "code",
   "execution_count": 18,
   "id": "83bee1b2",
   "metadata": {},
   "outputs": [],
   "source": [
    "df_train = df_filled.copy()\n",
    "del df_filled"
   ]
  },
  {
   "cell_type": "markdown",
   "id": "419fa877",
   "metadata": {},
   "source": [
    "# 3. Feature Engineering"
   ]
  },
  {
   "cell_type": "markdown",
   "id": "7aa5f40f",
   "metadata": {},
   "source": [
    "## 3.1 Timebased Features"
   ]
  },
  {
   "cell_type": "code",
   "execution_count": 19,
   "id": "cb3c6ab6",
   "metadata": {},
   "outputs": [],
   "source": [
    "# Extract date features\n",
    "df_train['day_of_week'] = df_train['date'].dt.dayofweek\n",
    "df_train['month'] = df_train['date'].dt.month\n",
    "df_train['year'] = df_train['date'].dt.year"
   ]
  },
  {
   "cell_type": "markdown",
   "id": "5e8e4745",
   "metadata": {},
   "source": [
    "## 3.2 Lag Feature"
   ]
  },
  {
   "cell_type": "code",
   "execution_count": 20,
   "id": "d93067f7",
   "metadata": {},
   "outputs": [],
   "source": [
    "# Calculating rolling average of unit_sales\n",
    "df_train['unit_sales_7d_avg'] = df_train.groupby(['item_nbr', 'store_nbr'])['unit_sales'].transform(lambda x: x.rolling(window=7).mean())\n",
    "df_train['unit_sales_7d_avg'] = df_train['unit_sales_7d_avg'].fillna(0)\n"
   ]
  },
  {
   "cell_type": "markdown",
   "id": "c04f1991",
   "metadata": {},
   "source": [
    "# 4. Data Cleaning"
   ]
  },
  {
   "cell_type": "code",
   "execution_count": 21,
   "id": "3ecb529b",
   "metadata": {},
   "outputs": [
    {
     "name": "stdout",
     "output_type": "stream",
     "text": [
      "<class 'pandas.core.frame.DataFrame'>\n",
      "RangeIndex: 35069356 entries, 0 to 35069355\n",
      "Data columns (total 11 columns):\n",
      " #   Column             Dtype         \n",
      "---  ------             -----         \n",
      " 0   store_nbr          int64         \n",
      " 1   item_nbr           int64         \n",
      " 2   date               datetime64[ns]\n",
      " 3   id                 float64       \n",
      " 4   unit_sales         float64       \n",
      " 5   onpromotion        int64         \n",
      " 6   family             object        \n",
      " 7   day_of_week        int32         \n",
      " 8   month              int32         \n",
      " 9   year               int32         \n",
      " 10  unit_sales_7d_avg  float64       \n",
      "dtypes: datetime64[ns](1), float64(3), int32(3), int64(3), object(1)\n",
      "memory usage: 2.5+ GB\n"
     ]
    }
   ],
   "source": [
    "df_train.info()"
   ]
  },
  {
   "cell_type": "markdown",
   "id": "55b39b54",
   "metadata": {},
   "source": [
    "## 4.1 Handle Outliers"
   ]
  },
  {
   "cell_type": "code",
   "execution_count": 22,
   "id": "1ee302e8",
   "metadata": {},
   "outputs": [
    {
     "name": "stderr",
     "output_type": "stream",
     "text": [
      "/var/folders/zs/s3r_n51s0j12n59b516vs7n00000gn/T/ipykernel_2186/2389567454.py:12: DeprecationWarning: DataFrameGroupBy.apply operated on the grouping columns. This behavior is deprecated, and in a future version of pandas the grouping columns will be excluded from the operation. Either pass `include_groups=False` to exclude the groupings or explicitly select the grouping columns after groupby to silence this warning.\n",
      "  df_train = df_train.groupby(['store_nbr', 'item_nbr']).apply(add_z_scores).reset_index(drop=True)\n"
     ]
    }
   ],
   "source": [
    "# Function to compute Z-scores within each (store_nbr, item_nbr) group\n",
    "def add_z_scores(group: pd.DataFrame) -> pd.DataFrame:\n",
    "    \"\"\"\n",
    "    Adds a 'z_score' column to the group based on 'unit_sales'.\n",
    "    If std deviation is zero, uses 1 to avoid division by zero.\n",
    "    \"\"\"\n",
    "    mean = group['unit_sales'].mean()\n",
    "    std = group['unit_sales'].std() or 1  # Avoid division by zero\n",
    "    group['z_score'] = (group['unit_sales'] - mean) / std\n",
    "    return group\n",
    "# Apply Z-score calculation to each store-item group\n",
    "df_train = df_train.groupby(['store_nbr', 'item_nbr']).apply(add_z_scores).reset_index(drop=True)"
   ]
  },
  {
   "cell_type": "code",
   "execution_count": 23,
   "id": "193e0f99",
   "metadata": {},
   "outputs": [
    {
     "data": {
      "text/html": [
       "<div>\n",
       "<style scoped>\n",
       "    .dataframe tbody tr th:only-of-type {\n",
       "        vertical-align: middle;\n",
       "    }\n",
       "\n",
       "    .dataframe tbody tr th {\n",
       "        vertical-align: top;\n",
       "    }\n",
       "\n",
       "    .dataframe thead th {\n",
       "        text-align: right;\n",
       "    }\n",
       "</style>\n",
       "<table border=\"1\" class=\"dataframe\">\n",
       "  <thead>\n",
       "    <tr style=\"text-align: right;\">\n",
       "      <th></th>\n",
       "      <th>store_nbr</th>\n",
       "      <th>item_nbr</th>\n",
       "      <th>date</th>\n",
       "      <th>id</th>\n",
       "      <th>unit_sales</th>\n",
       "      <th>onpromotion</th>\n",
       "      <th>family</th>\n",
       "      <th>day_of_week</th>\n",
       "      <th>month</th>\n",
       "      <th>year</th>\n",
       "      <th>unit_sales_7d_avg</th>\n",
       "      <th>z_score</th>\n",
       "    </tr>\n",
       "  </thead>\n",
       "  <tbody>\n",
       "    <tr>\n",
       "      <th>199</th>\n",
       "      <td>24</td>\n",
       "      <td>96995</td>\n",
       "      <td>2013-07-20</td>\n",
       "      <td>8561060.0</td>\n",
       "      <td>6.0</td>\n",
       "      <td>0</td>\n",
       "      <td>GROCERY I</td>\n",
       "      <td>5</td>\n",
       "      <td>7</td>\n",
       "      <td>2013</td>\n",
       "      <td>1.571429</td>\n",
       "      <td>6.770646</td>\n",
       "    </tr>\n",
       "    <tr>\n",
       "      <th>332</th>\n",
       "      <td>24</td>\n",
       "      <td>96995</td>\n",
       "      <td>2013-11-30</td>\n",
       "      <td>14742877.0</td>\n",
       "      <td>9.0</td>\n",
       "      <td>0</td>\n",
       "      <td>GROCERY I</td>\n",
       "      <td>5</td>\n",
       "      <td>11</td>\n",
       "      <td>2013</td>\n",
       "      <td>2.142857</td>\n",
       "      <td>10.303976</td>\n",
       "    </tr>\n",
       "    <tr>\n",
       "      <th>350</th>\n",
       "      <td>24</td>\n",
       "      <td>96995</td>\n",
       "      <td>2013-12-18</td>\n",
       "      <td>15666702.0</td>\n",
       "      <td>14.0</td>\n",
       "      <td>0</td>\n",
       "      <td>GROCERY I</td>\n",
       "      <td>2</td>\n",
       "      <td>12</td>\n",
       "      <td>2013</td>\n",
       "      <td>2.285714</td>\n",
       "      <td>16.192861</td>\n",
       "    </tr>\n",
       "    <tr>\n",
       "      <th>352</th>\n",
       "      <td>24</td>\n",
       "      <td>96995</td>\n",
       "      <td>2013-12-20</td>\n",
       "      <td>15768768.0</td>\n",
       "      <td>7.0</td>\n",
       "      <td>0</td>\n",
       "      <td>GROCERY I</td>\n",
       "      <td>4</td>\n",
       "      <td>12</td>\n",
       "      <td>2013</td>\n",
       "      <td>3.428571</td>\n",
       "      <td>7.948423</td>\n",
       "    </tr>\n",
       "    <tr>\n",
       "      <th>355</th>\n",
       "      <td>24</td>\n",
       "      <td>96995</td>\n",
       "      <td>2013-12-23</td>\n",
       "      <td>15928874.0</td>\n",
       "      <td>9.0</td>\n",
       "      <td>0</td>\n",
       "      <td>GROCERY I</td>\n",
       "      <td>0</td>\n",
       "      <td>12</td>\n",
       "      <td>2013</td>\n",
       "      <td>5.571429</td>\n",
       "      <td>10.303976</td>\n",
       "    </tr>\n",
       "    <tr>\n",
       "      <th>...</th>\n",
       "      <td>...</td>\n",
       "      <td>...</td>\n",
       "      <td>...</td>\n",
       "      <td>...</td>\n",
       "      <td>...</td>\n",
       "      <td>...</td>\n",
       "      <td>...</td>\n",
       "      <td>...</td>\n",
       "      <td>...</td>\n",
       "      <td>...</td>\n",
       "      <td>...</td>\n",
       "      <td>...</td>\n",
       "    </tr>\n",
       "    <tr>\n",
       "      <th>35067668</th>\n",
       "      <td>51</td>\n",
       "      <td>2123791</td>\n",
       "      <td>2017-08-15</td>\n",
       "      <td>125491523.0</td>\n",
       "      <td>1.0</td>\n",
       "      <td>0</td>\n",
       "      <td>GROCERY I</td>\n",
       "      <td>1</td>\n",
       "      <td>8</td>\n",
       "      <td>2017</td>\n",
       "      <td>0.142857</td>\n",
       "      <td>41.048759</td>\n",
       "    </tr>\n",
       "    <tr>\n",
       "      <th>35069327</th>\n",
       "      <td>51</td>\n",
       "      <td>2127114</td>\n",
       "      <td>2017-07-18</td>\n",
       "      <td>122560995.0</td>\n",
       "      <td>9.0</td>\n",
       "      <td>1</td>\n",
       "      <td>BEVERAGES</td>\n",
       "      <td>1</td>\n",
       "      <td>7</td>\n",
       "      <td>2017</td>\n",
       "      <td>1.428571</td>\n",
       "      <td>15.223260</td>\n",
       "    </tr>\n",
       "    <tr>\n",
       "      <th>35069333</th>\n",
       "      <td>51</td>\n",
       "      <td>2127114</td>\n",
       "      <td>2017-07-24</td>\n",
       "      <td>123189330.0</td>\n",
       "      <td>6.0</td>\n",
       "      <td>1</td>\n",
       "      <td>BEVERAGES</td>\n",
       "      <td>0</td>\n",
       "      <td>7</td>\n",
       "      <td>2017</td>\n",
       "      <td>2.142857</td>\n",
       "      <td>10.133755</td>\n",
       "    </tr>\n",
       "    <tr>\n",
       "      <th>35069341</th>\n",
       "      <td>51</td>\n",
       "      <td>2127114</td>\n",
       "      <td>2017-08-01</td>\n",
       "      <td>124029594.0</td>\n",
       "      <td>5.0</td>\n",
       "      <td>1</td>\n",
       "      <td>BEVERAGES</td>\n",
       "      <td>1</td>\n",
       "      <td>8</td>\n",
       "      <td>2017</td>\n",
       "      <td>1.000000</td>\n",
       "      <td>8.437254</td>\n",
       "    </tr>\n",
       "    <tr>\n",
       "      <th>35069346</th>\n",
       "      <td>51</td>\n",
       "      <td>2127114</td>\n",
       "      <td>2017-08-06</td>\n",
       "      <td>124564703.0</td>\n",
       "      <td>21.0</td>\n",
       "      <td>0</td>\n",
       "      <td>BEVERAGES</td>\n",
       "      <td>6</td>\n",
       "      <td>8</td>\n",
       "      <td>2017</td>\n",
       "      <td>3.857143</td>\n",
       "      <td>35.581277</td>\n",
       "    </tr>\n",
       "  </tbody>\n",
       "</table>\n",
       "<p>158054 rows × 12 columns</p>\n",
       "</div>"
      ],
      "text/plain": [
       "          store_nbr  item_nbr       date           id  unit_sales  \\\n",
       "199              24     96995 2013-07-20    8561060.0         6.0   \n",
       "332              24     96995 2013-11-30   14742877.0         9.0   \n",
       "350              24     96995 2013-12-18   15666702.0        14.0   \n",
       "352              24     96995 2013-12-20   15768768.0         7.0   \n",
       "355              24     96995 2013-12-23   15928874.0         9.0   \n",
       "...             ...       ...        ...          ...         ...   \n",
       "35067668         51   2123791 2017-08-15  125491523.0         1.0   \n",
       "35069327         51   2127114 2017-07-18  122560995.0         9.0   \n",
       "35069333         51   2127114 2017-07-24  123189330.0         6.0   \n",
       "35069341         51   2127114 2017-08-01  124029594.0         5.0   \n",
       "35069346         51   2127114 2017-08-06  124564703.0        21.0   \n",
       "\n",
       "          onpromotion     family  day_of_week  month  year  unit_sales_7d_avg  \\\n",
       "199                 0  GROCERY I            5      7  2013           1.571429   \n",
       "332                 0  GROCERY I            5     11  2013           2.142857   \n",
       "350                 0  GROCERY I            2     12  2013           2.285714   \n",
       "352                 0  GROCERY I            4     12  2013           3.428571   \n",
       "355                 0  GROCERY I            0     12  2013           5.571429   \n",
       "...               ...        ...          ...    ...   ...                ...   \n",
       "35067668            0  GROCERY I            1      8  2017           0.142857   \n",
       "35069327            1  BEVERAGES            1      7  2017           1.428571   \n",
       "35069333            1  BEVERAGES            0      7  2017           2.142857   \n",
       "35069341            1  BEVERAGES            1      8  2017           1.000000   \n",
       "35069346            0  BEVERAGES            6      8  2017           3.857143   \n",
       "\n",
       "            z_score  \n",
       "199        6.770646  \n",
       "332       10.303976  \n",
       "350       16.192861  \n",
       "352        7.948423  \n",
       "355       10.303976  \n",
       "...             ...  \n",
       "35067668  41.048759  \n",
       "35069327  15.223260  \n",
       "35069333  10.133755  \n",
       "35069341   8.437254  \n",
       "35069346  35.581277  \n",
       "\n",
       "[158054 rows x 12 columns]"
      ]
     },
     "execution_count": 23,
     "metadata": {},
     "output_type": "execute_result"
    }
   ],
   "source": [
    "# Define threshold for outliers (e.g., Z-score > 5)\n",
    "outliers = df_train[df_train['z_score'] > 5]\n",
    "outliers"
   ]
  },
  {
   "cell_type": "markdown",
   "id": "b086d21c",
   "metadata": {},
   "source": [
    "## 4.2 Missing Values"
   ]
  },
  {
   "cell_type": "code",
   "execution_count": 24,
   "id": "f7bba075",
   "metadata": {},
   "outputs": [
    {
     "name": "stdout",
     "output_type": "stream",
     "text": [
      "store_nbr                   0\n",
      "item_nbr                    0\n",
      "date                        0\n",
      "id                   20323588\n",
      "unit_sales                  0\n",
      "onpromotion                 0\n",
      "family               20323588\n",
      "day_of_week                 0\n",
      "month                       0\n",
      "year                        0\n",
      "unit_sales_7d_avg           0\n",
      "z_score                     0\n",
      "dtype: int64\n"
     ]
    }
   ],
   "source": [
    "# Check for missing\n",
    "print(df_train.isnull().sum())"
   ]
  },
  {
   "cell_type": "code",
   "execution_count": 25,
   "id": "adde0952",
   "metadata": {},
   "outputs": [
    {
     "data": {
      "text/html": [
       "<div>\n",
       "<style scoped>\n",
       "    .dataframe tbody tr th:only-of-type {\n",
       "        vertical-align: middle;\n",
       "    }\n",
       "\n",
       "    .dataframe tbody tr th {\n",
       "        vertical-align: top;\n",
       "    }\n",
       "\n",
       "    .dataframe thead th {\n",
       "        text-align: right;\n",
       "    }\n",
       "</style>\n",
       "<table border=\"1\" class=\"dataframe\">\n",
       "  <thead>\n",
       "    <tr style=\"text-align: right;\">\n",
       "      <th></th>\n",
       "      <th>store_nbr</th>\n",
       "      <th>item_nbr</th>\n",
       "      <th>date</th>\n",
       "      <th>id</th>\n",
       "      <th>unit_sales</th>\n",
       "      <th>onpromotion</th>\n",
       "      <th>family</th>\n",
       "      <th>day_of_week</th>\n",
       "      <th>month</th>\n",
       "      <th>year</th>\n",
       "      <th>unit_sales_7d_avg</th>\n",
       "      <th>z_score</th>\n",
       "    </tr>\n",
       "  </thead>\n",
       "  <tbody>\n",
       "    <tr>\n",
       "      <th>0</th>\n",
       "      <td>24</td>\n",
       "      <td>96995</td>\n",
       "      <td>2013-01-02</td>\n",
       "      <td>NaN</td>\n",
       "      <td>0.0</td>\n",
       "      <td>0</td>\n",
       "      <td>GROCERY I</td>\n",
       "      <td>2</td>\n",
       "      <td>1</td>\n",
       "      <td>2013</td>\n",
       "      <td>0.0</td>\n",
       "      <td>-0.296015</td>\n",
       "    </tr>\n",
       "    <tr>\n",
       "      <th>1</th>\n",
       "      <td>24</td>\n",
       "      <td>96995</td>\n",
       "      <td>2013-01-03</td>\n",
       "      <td>NaN</td>\n",
       "      <td>0.0</td>\n",
       "      <td>0</td>\n",
       "      <td>GROCERY I</td>\n",
       "      <td>3</td>\n",
       "      <td>1</td>\n",
       "      <td>2013</td>\n",
       "      <td>0.0</td>\n",
       "      <td>-0.296015</td>\n",
       "    </tr>\n",
       "    <tr>\n",
       "      <th>2</th>\n",
       "      <td>24</td>\n",
       "      <td>96995</td>\n",
       "      <td>2013-01-04</td>\n",
       "      <td>NaN</td>\n",
       "      <td>0.0</td>\n",
       "      <td>0</td>\n",
       "      <td>GROCERY I</td>\n",
       "      <td>4</td>\n",
       "      <td>1</td>\n",
       "      <td>2013</td>\n",
       "      <td>0.0</td>\n",
       "      <td>-0.296015</td>\n",
       "    </tr>\n",
       "    <tr>\n",
       "      <th>3</th>\n",
       "      <td>24</td>\n",
       "      <td>96995</td>\n",
       "      <td>2013-01-05</td>\n",
       "      <td>NaN</td>\n",
       "      <td>0.0</td>\n",
       "      <td>0</td>\n",
       "      <td>GROCERY I</td>\n",
       "      <td>5</td>\n",
       "      <td>1</td>\n",
       "      <td>2013</td>\n",
       "      <td>0.0</td>\n",
       "      <td>-0.296015</td>\n",
       "    </tr>\n",
       "    <tr>\n",
       "      <th>4</th>\n",
       "      <td>24</td>\n",
       "      <td>96995</td>\n",
       "      <td>2013-01-06</td>\n",
       "      <td>NaN</td>\n",
       "      <td>0.0</td>\n",
       "      <td>0</td>\n",
       "      <td>GROCERY I</td>\n",
       "      <td>6</td>\n",
       "      <td>1</td>\n",
       "      <td>2013</td>\n",
       "      <td>0.0</td>\n",
       "      <td>-0.296015</td>\n",
       "    </tr>\n",
       "  </tbody>\n",
       "</table>\n",
       "</div>"
      ],
      "text/plain": [
       "   store_nbr  item_nbr       date  id  unit_sales  onpromotion     family  \\\n",
       "0         24     96995 2013-01-02 NaN         0.0            0  GROCERY I   \n",
       "1         24     96995 2013-01-03 NaN         0.0            0  GROCERY I   \n",
       "2         24     96995 2013-01-04 NaN         0.0            0  GROCERY I   \n",
       "3         24     96995 2013-01-05 NaN         0.0            0  GROCERY I   \n",
       "4         24     96995 2013-01-06 NaN         0.0            0  GROCERY I   \n",
       "\n",
       "   day_of_week  month  year  unit_sales_7d_avg   z_score  \n",
       "0            2      1  2013                0.0 -0.296015  \n",
       "1            3      1  2013                0.0 -0.296015  \n",
       "2            4      1  2013                0.0 -0.296015  \n",
       "3            5      1  2013                0.0 -0.296015  \n",
       "4            6      1  2013                0.0 -0.296015  "
      ]
     },
     "execution_count": 25,
     "metadata": {},
     "output_type": "execute_result"
    }
   ],
   "source": [
    "# Step 1: Create a mapping from item_nbr to known family values (excluding NaNs)\n",
    "item_family_map = df_train.dropna(subset=['family']).drop_duplicates(subset=['item_nbr'])[['item_nbr', 'family']]\n",
    "item_family_dict = dict(zip(item_family_map['item_nbr'], item_family_map['family']))\n",
    "\n",
    "# Step 2: Use the mapping to fill missing 'family' values based on 'item_nbr'\n",
    "df_train['family'] = df_train['family'].fillna(df_train['item_nbr'].map(item_family_dict))\n",
    "df_train.head()"
   ]
  },
  {
   "cell_type": "markdown",
   "id": "8603fb60",
   "metadata": {},
   "source": [
    "# 5. Exploratory Data Analysis (EDA)"
   ]
  },
  {
   "cell_type": "markdown",
   "id": "2a6c1852",
   "metadata": {},
   "source": [
    "## 5.1 General Overview"
   ]
  },
  {
   "cell_type": "code",
   "execution_count": 26,
   "id": "a8580860",
   "metadata": {},
   "outputs": [
    {
     "name": "stdout",
     "output_type": "stream",
     "text": [
      "Shape: (35069356, 12)\n",
      "Date Range: 2013-01-02 00:00:00 to 2017-08-15 00:00:00\n",
      "Top Families: ['GROCERY I' 'CLEANING' 'BEVERAGES']\n"
     ]
    }
   ],
   "source": [
    "print(\"Shape:\", df_train.shape)\n",
    "print(\"Date Range:\", df_train['date'].min(), \"to\", df_train['date'].max())\n",
    "print(\"Top Families:\", df_train['family'].unique())"
   ]
  },
  {
   "cell_type": "markdown",
   "id": "ed864a50",
   "metadata": {},
   "source": [
    "## 5.2 Sales Over Time"
   ]
  },
  {
   "cell_type": "code",
   "execution_count": 27,
   "id": "744487bf",
   "metadata": {},
   "outputs": [
    {
     "data": {
      "image/png": "[encoded data removed]",
      "text/plain": [
       "<Figure size 1200x400 with 1 Axes>"
      ]
     },
     "metadata": {},
     "output_type": "display_data"
    }
   ],
   "source": [
    "df_daily = df_train.groupby('date')['unit_sales'].sum().reset_index()\n",
    "plt.figure(figsize=(12, 4))\n",
    "sns.lineplot(data=df_daily, x='date', y='unit_sales')\n",
    "plt.title(\"Total Daily Sales – Guayas\")\n",
    "plt.show()"
   ]
  },
  {
   "cell_type": "markdown",
   "id": "450d7da1",
   "metadata": {},
   "source": [
    "## 5.3 Sales by Family"
   ]
  },
  {
   "cell_type": "code",
   "execution_count": 28,
   "id": "4c11bed1",
   "metadata": {},
   "outputs": [
    {
     "data": {
      "image/png": "[encoded data removed]",
      "text/plain": [
       "<Figure size 800x400 with 1 Axes>"
      ]
     },
     "metadata": {},
     "output_type": "display_data"
    }
   ],
   "source": [
    "family_sales = df_train.groupby('family')['unit_sales'].sum().sort_values()\n",
    "family_sales.plot(kind='barh', figsize=(8, 4), title=\"Sales by Product Family\", color='teal')\n",
    "plt.xlabel(\"Unit Sales\")\n",
    "plt.show()"
   ]
  },
  {
   "cell_type": "markdown",
   "id": "b2f128a0",
   "metadata": {},
   "source": [
    "## 5.4 Promotions Impact"
   ]
  },
  {
   "cell_type": "code",
   "execution_count": 29,
   "id": "3f756729",
   "metadata": {},
   "outputs": [
    {
     "data": {
      "image/png": "[encoded data removed]",
      "text/plain": [
       "<Figure size 640x480 with 1 Axes>"
      ]
     },
     "metadata": {},
     "output_type": "display_data"
    }
   ],
   "source": [
    "promo_sales = df_train.groupby('onpromotion')['unit_sales'].mean()\n",
    "promo_sales.plot(kind='bar', title='Mean Sales – Promotion vs No Promotion')\n",
    "plt.ylabel(\"Avg Unit Sales\")\n",
    "plt.xticks([0, 1], ['No Promo', 'Promo'], rotation=0)\n",
    "plt.show()"
   ]
  },
  {
   "cell_type": "markdown",
   "id": "e61bd03c",
   "metadata": {},
   "source": [
    "5.5 Impact of Holidays"
   ]
  },
  {
   "cell_type": "code",
   "execution_count": 30,
   "id": "93d77465",
   "metadata": {},
   "outputs": [
    {
     "name": "stdout",
     "output_type": "stream",
     "text": [
      "Holidays range: from 2012-03-02 till 2017-12-26\n"
     ]
    }
   ],
   "source": [
    "# Convert date column to datetime\n",
    "df_holidays_events['date'] = pd.to_datetime(df_holidays_events['date'])\n",
    "print(\"Holidays range: from\",df_holidays_events['date'].dt.date.min(),\"till\",df_holidays_events['date'].dt.date.max())\n",
    "\n",
    "# Filtering out zero sales\n",
    "df_train_no_zero = df_train[df_train.unit_sales > 0]\n",
    "\n",
    "# Merge df_train_no_zero with df_holidays_events\n",
    "df_train_holiday = pd.merge(df_train_no_zero, df_holidays_events, on='date', how='left')\n",
    "\n",
    "# Aggregating sales by holiday and non-holiday\n",
    "holiday_sales = df_train_holiday.groupby('type')['unit_sales'].mean()"
   ]
  },
  {
   "cell_type": "code",
   "execution_count": 31,
   "id": "dae09c9a",
   "metadata": {},
   "outputs": [
    {
     "data": {
      "image/png": "[encoded data removed]",
      "text/plain": [
       "<Figure size 800x500 with 1 Axes>"
      ]
     },
     "metadata": {},
     "output_type": "display_data"
    }
   ],
   "source": [
    "# Aggregating sales by holiday and non-holiday\n",
    "holiday_sales = df_train_holiday.groupby('type')['unit_sales'].mean()\n",
    "# Plotting holiday impact\n",
    "plt.figure(figsize=(8,5))\n",
    "holiday_sales.plot(kind='bar', color='lightgreen', edgecolor='black')\n",
    "plt.title('Impact of Holidays on Sales', fontsize=20, fontweight='bold')\n",
    "plt.ylabel('Average Unit Sales', fontsize=16)\n",
    "plt.xlabel('')\n",
    "plt.xticks(fontsize=14, rotation=45)\n",
    "plt.yticks(fontsize=14)\n",
    "plt.show()"
   ]
  },
  {
   "cell_type": "markdown",
   "id": "14ec3566",
   "metadata": {},
   "source": [
    "## 5.5 Top 3 Product Families"
   ]
  },
  {
   "cell_type": "code",
   "execution_count": 32,
   "id": "39e2e539",
   "metadata": {},
   "outputs": [
    {
     "name": "stdout",
     "output_type": "stream",
     "text": [
      "Top 3 item families: ['GROCERY I', 'BEVERAGES', 'CLEANING']\n"
     ]
    }
   ],
   "source": [
    "top_families = df_train['family'].value_counts().nlargest(3).index.tolist()\n",
    "print(\"Top 3 item families:\", top_families)"
   ]
  },
  {
   "cell_type": "markdown",
   "id": "5073495e",
   "metadata": {},
   "source": [
    "Filter df_train on the top 3 families"
   ]
  },
  {
   "cell_type": "code",
   "execution_count": 33,
   "id": "44e44f81",
   "metadata": {},
   "outputs": [],
   "source": [
    "df_train = df_train[df_train['family'].isin(top_families)]"
   ]
  },
  {
   "cell_type": "code",
   "execution_count": 34,
   "id": "9621cdd7",
   "metadata": {},
   "outputs": [],
   "source": [
    "df_train['date'] = pd.to_datetime(df_train['date'])\n",
    "df_train = df_train[df_train['date'] < '2014-04-01']"
   ]
  },
  {
   "cell_type": "code",
   "execution_count": 35,
   "id": "c557f42b",
   "metadata": {},
   "outputs": [
    {
     "data": {
      "image/png": "[encoded data removed]",
      "text/plain": [
       "<Figure size 800x500 with 1 Axes>"
      ]
     },
     "metadata": {},
     "output_type": "display_data"
    }
   ],
   "source": [
    "items_per_family = df_items['family'].value_counts().reset_index()\n",
    "items_per_family.columns = ['Family', 'Item Count']\n",
    "top_3_families = items_per_family.head(3)  # Keep only the top 3 families\n",
    "\n",
    "# Plot the top 3 families\n",
    "plt.figure(figsize=(8, 5))\n",
    "plt.bar(top_3_families['Family'], top_3_families['Item Count'], color='skyblue', edgecolor='black')\n",
    "plt.title(\"Top 3 Families by Number of Items\", fontsize=20, fontweight='bold')\n",
    "plt.xlabel(\"Family\", fontsize=14)\n",
    "plt.ylabel(\"Number of Items\", fontsize=16)\n",
    "plt.xticks(fontsize=12, rotation=0)\n",
    "plt.yticks(fontsize=12)\n",
    "plt.tight_layout()\n",
    "# Display the plot\n",
    "plt.show()"
   ]
  },
  {
   "cell_type": "markdown",
   "id": "37fcf7fc",
   "metadata": {},
   "source": [
    "## 6. Save Prepared Data"
   ]
  },
  {
   "cell_type": "code",
   "execution_count": 36,
   "id": "1b0be3fc",
   "metadata": {},
   "outputs": [],
   "source": [
    "df = df_train[['store_nbr', 'item_nbr', 'date', 'unit_sales', 'onpromotion','family', 'day_of_week', 'month', 'year', 'unit_sales_7d_avg']]"
   ]
  },
  {
   "cell_type": "code",
   "execution_count": 37,
   "id": "9241f3a2",
   "metadata": {},
   "outputs": [],
   "source": [
    "df.to_csv(\"../data/preprocessed_data/train_guayas_prepared.csv\", index=False)"
   ]
  }
 ],
 "metadata": {
  "kernelspec": {
   "display_name": "base",
   "language": "python",
   "name": "python3"
  },
  "language_info": {
   "codemirror_mode": {
    "name": "ipython",
    "version": 3
   },
   "file_extension": ".py",
   "mimetype": "text/x-python",
   "name": "python",
   "nbconvert_exporter": "python",
   "pygments_lexer": "ipython3",
   "version": "3.12.7"
  }
 },
 "nbformat": 4,
 "nbformat_minor": 5
}
